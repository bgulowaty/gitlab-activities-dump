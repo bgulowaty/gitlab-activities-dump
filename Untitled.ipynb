{
 "cells": [
  {
   "cell_type": "code",
   "execution_count": null,
   "id": "439e580a-6072-4b52-9159-03f4f40f3c28",
   "metadata": {},
   "outputs": [],
   "source": [
    "GITLAB_TOKEN = \"your gitlab token\"\n",
    "USER_ID = 62 # get from user profile page"
   ]
  },
  {
   "cell_type": "code",
   "execution_count": null,
   "id": "416b04c5-93a6-4890-9780-ca3a7a5a3e63",
   "metadata": {},
   "outputs": [],
   "source": [
    "import gitlab\n",
    "\n",
    "# private token or personal token authentication\n",
    "gl = gitlab.Gitlab('https://gitlab.company.com', private_token=GITLAB_TOKEN)"
   ]
  },
  {
   "cell_type": "code",
   "execution_count": null,
   "id": "43c17716-82e7-45af-9c7a-2df0635669e3",
   "metadata": {},
   "outputs": [],
   "source": [
    "all_projects = gl.projects.list(all=True)\n"
   ]
  },
  {
   "cell_type": "code",
   "execution_count": null,
   "id": "c8bf3a9f-837f-42c3-a762-6337638230ec",
   "metadata": {},
   "outputs": [],
   "source": [
    "commits_with_project = {}"
   ]
  },
  {
   "cell_type": "code",
   "execution_count": null,
   "id": "1639e0c3-3a08-4de7-9560-82f9b4f8f391",
   "metadata": {},
   "outputs": [],
   "source": [
    "my_all_events = gl.users.get(USER_ID).events.list(all=True)"
   ]
  },
  {
   "cell_type": "code",
   "execution_count": null,
   "id": "519bfc71-09e8-4b3b-a738-34bb3663954e",
   "metadata": {},
   "outputs": [],
   "source": [
    "import json"
   ]
  },
  {
   "cell_type": "code",
   "execution_count": null,
   "id": "0b7e4612-d01b-41aa-b188-36df543bf09d",
   "metadata": {},
   "outputs": [],
   "source": [
    "serialized_events = json.dumps(list(map(lambda a: a.attributes, my_all_events)), sort_keys=True, indent=4)"
   ]
  },
  {
   "cell_type": "code",
   "execution_count": null,
   "id": "ae5099a4-6dda-494f-a651-dd6f2a2c6c78",
   "metadata": {},
   "outputs": [],
   "source": [
    "with open('all_projects.json', 'w', encoding='utf-8') as f:\n",
    "    f.write(serialized_events)"
   ]
  },
  {
   "cell_type": "code",
   "execution_count": null,
   "id": "61f9aa40-a393-46b4-b63f-6b74095c686c",
   "metadata": {},
   "outputs": [],
   "source": [
    "with open('all_events.json', 'w', encoding='utf-8') as f:\n",
    "    f.write(serialized_events)"
   ]
  },
  {
   "cell_type": "code",
   "execution_count": null,
   "id": "7b3bb52d-2026-42fb-baa4-a5e2d72c4e42",
   "metadata": {},
   "outputs": [],
   "source": [
    "import time"
   ]
  },
  {
   "cell_type": "code",
   "execution_count": null,
   "id": "42d6479b-1385-4dce-abf5-c353cbb1df20",
   "metadata": {},
   "outputs": [],
   "source": [
    "all_commits_by_project_id = {}"
   ]
  },
  {
   "cell_type": "code",
   "execution_count": null,
   "id": "6c4714f2-cd95-4b5a-8039-6ff344e920c7",
   "metadata": {},
   "outputs": [],
   "source": [
    "failed_projects = []"
   ]
  },
  {
   "cell_type": "code",
   "execution_count": null,
   "id": "15e928ed-79a8-416e-a7df-68e016aeac28",
   "metadata": {},
   "outputs": [],
   "source": [
    "for project in all_projects:\n",
    "    proj_id = project.id\n",
    "    try:\n",
    "        proj_commits = project.commits.list(all=True)\n",
    "        all_commits_by_project_id[proj_id] = proj_commits\n",
    "    except:\n",
    "        failed_projects.append(project)\n",
    "    \n"
   ]
  },
  {
   "cell_type": "code",
   "execution_count": null,
   "id": "728234ae-36d1-484b-9ad8-f317198850a4",
   "metadata": {},
   "outputs": [],
   "source": [
    "from functools import reduce"
   ]
  },
  {
   "cell_type": "code",
   "execution_count": null,
   "id": "737e5838-2401-49a2-b661-0e55894d146d",
   "metadata": {},
   "outputs": [],
   "source": [
    "all_commits = reduce(list.__add__, all_commits_by_project_id.values()) "
   ]
  },
  {
   "cell_type": "code",
   "execution_count": null,
   "id": "d7f7a000-cecd-4629-b2f2-4ccbfc67b35b",
   "metadata": {},
   "outputs": [],
   "source": []
  },
  {
   "cell_type": "code",
   "execution_count": null,
   "id": "5c66a78e-c0df-418d-8107-468ab5900fd4",
   "metadata": {},
   "outputs": [],
   "source": [
    "all_mrs = gl.mergerequests.list(all=True, state='all')"
   ]
  },
  {
   "cell_type": "code",
   "execution_count": null,
   "id": "753d196b-0a0c-4bfa-8e85-cff231a1a937",
   "metadata": {},
   "outputs": [],
   "source": [
    "with open('all_my_mrs.json', 'w', encoding='utf-8') as f:\n",
    "    serialized_mrs = json.dumps(list(map(lambda a: a.attributes, all_mrs)), sort_keys=True, indent=4)\n",
    "    f.write(serialized_mrs)"
   ]
  },
  {
   "cell_type": "code",
   "execution_count": null,
   "id": "fed97147-59ae-4693-b051-6b875f744ad0",
   "metadata": {},
   "outputs": [],
   "source": [
    "all_mr_discussions = []"
   ]
  },
  {
   "cell_type": "code",
   "execution_count": null,
   "id": "dadf5800-509b-45d4-aa00-b134e59780c4",
   "metadata": {},
   "outputs": [],
   "source": [
    "for project in all_projects:\n",
    "    mrs = project.mergerequests.list()\n",
    "    for mr in mrs:\n",
    "        discussions = mr.discussions.list()\n",
    "        for discussion in discussions:\n",
    "            all_mr_discussions.append(discussion)"
   ]
  },
  {
   "cell_type": "code",
   "execution_count": null,
   "id": "40fd6e17-353a-420e-affb-c64a8a91734e",
   "metadata": {},
   "outputs": [],
   "source": [
    "with open('all_mr_discussions.json', 'w', encoding='utf-8') as f:\n",
    "    serialized_discussions = json.dumps(list(map(lambda a: a.attributes, all_mr_discussions)), sort_keys=True, indent=4)\n",
    "    f.write(serialized_discussions)"
   ]
  },
  {
   "cell_type": "code",
   "execution_count": null,
   "id": "67ad2094-04af-4641-acfd-e1c911c936a3",
   "metadata": {},
   "outputs": [],
   "source": [
    "with open('all_commits.json', 'w', encoding='utf-8') as f:\n",
    "    serialized_commits = json.dumps({k: [commit.attributes for commit in v] for k, v in all_commits_by_project_id.items()}, sort_keys=True, indent=4)\n",
    "    f.write(serialized_commits)"
   ]
  },
  {
   "cell_type": "code",
   "execution_count": null,
   "id": "7fdd6863-99e0-478d-8fa5-9dc53bd0efe2",
   "metadata": {},
   "outputs": [],
   "source": [
    "serialized"
   ]
  }
 ],
 "metadata": {
  "kernelspec": {
   "display_name": "Python 3 (ipykernel)",
   "language": "python",
   "name": "python3"
  },
  "language_info": {
   "codemirror_mode": {
    "name": "ipython",
    "version": 3
   },
   "file_extension": ".py",
   "mimetype": "text/x-python",
   "name": "python",
   "nbconvert_exporter": "python",
   "pygments_lexer": "ipython3",
   "version": "3.9.5"
  }
 },
 "nbformat": 4,
 "nbformat_minor": 5
}
